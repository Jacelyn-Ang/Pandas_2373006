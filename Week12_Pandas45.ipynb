{
 "cells": [
  {
   "cell_type": "code",
   "execution_count": 1,
   "id": "68557b96-9f67-4c0d-8df2-7f25f33dcc43",
   "metadata": {},
   "outputs": [
    {
     "name": "stdout",
     "output_type": "stream",
     "text": [
      "2.1.4\n"
     ]
    }
   ],
   "source": [
    "import pandas as pd\n",
    "\n",
    "print(pd.__version__)"
   ]
  },
  {
   "cell_type": "code",
   "execution_count": null,
   "id": "ef12dd5c-5cd8-4d9f-a6c2-f9a9f83b180c",
   "metadata": {},
   "outputs": [],
   "source": [
    "df = pd.read_csv('./data/titanicfull.csv')\n",
    "df.head()"
   ]
  },
  {
   "cell_type": "code",
   "execution_count": null,
   "id": "f73127b6-9cc0-41de-8988-4f544c4e2896",
   "metadata": {},
   "outputs": [],
   "source": [
    "df.iloc[15:20, :].loc[:, 'name':'age']"
   ]
  },
  {
   "cell_type": "code",
   "execution_count": null,
   "id": "5171e346-9924-458f-bda7-96f0a815ed1c",
   "metadata": {},
   "outputs": [],
   "source": [
    "df.loc[:, 'name':'age'].iloc[15:20, :]"
   ]
  }
 ],
 "metadata": {
  "kernelspec": {
   "display_name": "Python 3 (ipykernel)",
   "language": "python",
   "name": "python3"
  },
  "language_info": {
   "codemirror_mode": {
    "name": "ipython",
    "version": 3
   },
   "file_extension": ".py",
   "mimetype": "text/x-python",
   "name": "python",
   "nbconvert_exporter": "python",
   "pygments_lexer": "ipython3",
   "version": "3.11.7"
  }
 },
 "nbformat": 4,
 "nbformat_minor": 5
}
