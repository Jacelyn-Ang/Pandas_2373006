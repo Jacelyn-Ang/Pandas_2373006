{
 "cells": [
  {
   "cell_type": "code",
   "execution_count": 1,
   "id": "eb6e08d5-74ef-4c35-b99d-4a8a9f2c3710",
   "metadata": {},
   "outputs": [
    {
     "name": "stdout",
     "output_type": "stream",
     "text": [
      "2.1.4\n"
     ]
    }
   ],
   "source": [
    "import pandas as pd\n",
    "\n",
    "print(pd.__version__)"
   ]
  },
  {
   "cell_type": "code",
   "execution_count": null,
   "id": "dd29203b-2e55-4f77-a836-6d52215cbd05",
   "metadata": {},
   "outputs": [],
   "source": [
    "df = pd.read_csv('./data/titanicfull.csv')\n",
    "df.head()"
   ]
  },
  {
   "cell_type": "code",
   "execution_count": null,
   "id": "b7c2db75-22ab-44af-af2c-5b85b44ed59d",
   "metadata": {},
   "outputs": [],
   "source": [
    "df[(df['sex']=='female') & (df['age']>=60) & (df['embarked']=='S') & (df['survived']==1)]"
   ]
  },
  {
   "cell_type": "code",
   "execution_count": null,
   "id": "cf541ab8-2aa7-41f3-b9ee-a0993c76d650",
   "metadata": {},
   "outputs": [],
   "source": [
    "df[\n",
    "    (df['sex']=='female') & \n",
    "    (df['age']>=60) & \n",
    "    (df['embarked']=='S') & \n",
    "    (df['survived']==1)\n",
    "]"
   ]
  },
  {
   "cell_type": "code",
   "execution_count": null,
   "id": "de22c71d-3e6d-4d46-960c-d31023927b43",
   "metadata": {},
   "outputs": [],
   "source": [
    "kr1 = df['sex']=='female'\n",
    "kr2 = df['age']>=60\n",
    "kr3 = df['embarked']=='S'\n",
    "kr4 = df['survived']==1\n",
    "\n",
    "df[kr1 & kr2 & kr3 & kr4]"
   ]
  }
 ],
 "metadata": {
  "kernelspec": {
   "display_name": "Python 3 (ipykernel)",
   "language": "python",
   "name": "python3"
  },
  "language_info": {
   "codemirror_mode": {
    "name": "ipython",
    "version": 3
   },
   "file_extension": ".py",
   "mimetype": "text/x-python",
   "name": "python",
   "nbconvert_exporter": "python",
   "pygments_lexer": "ipython3",
   "version": "3.11.7"
  }
 },
 "nbformat": 4,
 "nbformat_minor": 5
}
