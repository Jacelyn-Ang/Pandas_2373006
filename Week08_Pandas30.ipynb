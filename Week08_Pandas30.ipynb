{
 "cells": [
  {
   "cell_type": "code",
   "execution_count": null,
   "id": "122fdcdd-b557-47d4-add2-8bf7e72c48c3",
   "metadata": {},
   "outputs": [],
   "source": [
    "import pandas as pd\n",
    "import numpy as np\n",
    "\n",
    "print(pd.__version__)\n",
    "print(np.__version__)"
   ]
  },
  {
   "cell_type": "code",
   "execution_count": null,
   "id": "b17ee219-fb80-4359-929d-2aae6c9a5c51",
   "metadata": {},
   "outputs": [],
   "source": [
    "n_rows = 5\n",
    "n_cols = 5\n",
    "cols = tuple('ABCDE')\n",
    "\n",
    "df = pd.DataFrame(np.random.randint(1, 20, size=(n_rows, n_cols)), \n",
    "                  columns=cols)\n",
    "df"
   ]
  },
  {
   "cell_type": "code",
   "execution_count": null,
   "id": "001d7473-cc79-4858-a9fd-98c833c39b8b",
   "metadata": {},
   "outputs": [],
   "source": [
    "df.query('A > 10')"
   ]
  },
  {
   "cell_type": "code",
   "execution_count": null,
   "id": "58d2527b-44ee-48bf-ab69-222b3f947009",
   "metadata": {},
   "outputs": [],
   "source": [
    "rerata = df['A'].mean()\n",
    "rerata"
   ]
  },
  {
   "cell_type": "code",
   "execution_count": null,
   "id": "3786ddb4-760f-4316-b9b0-e00e87cab1e8",
   "metadata": {},
   "outputs": [],
   "source": [
    "df.query('A > @rerata')"
   ]
  }
 ],
 "metadata": {
  "kernelspec": {
   "display_name": "Python 3 (ipykernel)",
   "language": "python",
   "name": "python3"
  },
  "language_info": {
   "codemirror_mode": {
    "name": "ipython",
    "version": 3
   },
   "file_extension": ".py",
   "mimetype": "text/x-python",
   "name": "python",
   "nbconvert_exporter": "python",
   "pygments_lexer": "ipython3",
   "version": "3.11.7"
  }
 },
 "nbformat": 4,
 "nbformat_minor": 5
}
