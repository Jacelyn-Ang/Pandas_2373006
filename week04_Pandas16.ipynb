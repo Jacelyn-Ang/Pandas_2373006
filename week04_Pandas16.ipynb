{
 "cells": [
  {
   "cell_type": "code",
   "execution_count": 1,
   "id": "1d9418e7-8f2d-4ae2-8a04-3f1683eb690d",
   "metadata": {},
   "outputs": [
    {
     "name": "stdout",
     "output_type": "stream",
     "text": [
      "2.1.4\n"
     ]
    }
   ],
   "source": [
    "import pandas as pd\n",
    "\n",
    "print(pd.__version__)"
   ]
  },
  {
   "cell_type": "code",
   "execution_count": null,
   "id": "f74a8d23-31be-4602-9d4d-6b20a9ce8ced",
   "metadata": {},
   "outputs": [],
   "source": [
    "df= pd.read_csv(\"./data/titanicfull.csv)\n",
    "df.head()                "
   ]
  },
  {
   "cell_type": "code",
   "execution_count": null,
   "id": "f8e71483-e6e0-4a1d-b63f-c30a7294f006",
   "metadata": {},
   "outputs": [],
   "source": [
    "df.groupby(['sex','pclass'])['survived'].mean().to_frame()"
   ]
  },
  {
   "cell_type": "code",
   "execution_count": null,
   "id": "dd465299-c7a7-4fa9-96f2-3ff83fd7f849",
   "metadata": {},
   "outputs": [],
   "source": [
    "df.groupby(['sex','pclass'])['survived'].mean()"
   ]
  },
  {
   "cell_type": "code",
   "execution_count": null,
   "id": "0edeab69-d91d-4ade-a6ef-8e245709dd89",
   "metadata": {},
   "outputs": [],
   "source": [
    "df.groupby(['sex','pclass'])['survived'].mean().unstack()"
   ]
  },
  {
   "cell_type": "code",
   "execution_count": null,
   "id": "f3fe91fd-4064-4aee-b37a-e377a0ca16c9",
   "metadata": {},
   "outputs": [],
   "source": []
  }
 ],
 "metadata": {
  "kernelspec": {
   "display_name": "Python 3 (ipykernel)",
   "language": "python",
   "name": "python3"
  },
  "language_info": {
   "codemirror_mode": {
    "name": "ipython",
    "version": 3
   },
   "file_extension": ".py",
   "mimetype": "text/x-python",
   "name": "python",
   "nbconvert_exporter": "python",
   "pygments_lexer": "ipython3",
   "version": "3.11.7"
  }
 },
 "nbformat": 4,
 "nbformat_minor": 5
}
