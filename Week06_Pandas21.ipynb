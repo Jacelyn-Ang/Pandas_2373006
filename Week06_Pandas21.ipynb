{
 "cells": [
  {
   "cell_type": "code",
   "execution_count": 1,
   "id": "ed74e99c-84a2-4adc-9ea0-9f804ef12d0f",
   "metadata": {},
   "outputs": [
    {
     "name": "stdout",
     "output_type": "stream",
     "text": [
      "2.1.4\n"
     ]
    }
   ],
   "source": [
    "import pandas as pd\n",
    "\n",
    "print(pd.__version__)"
   ]
  },
  {
   "cell_type": "code",
   "execution_count": null,
   "id": "9b79e008-6d77-4937-91cc-c576765ce994",
   "metadata": {},
   "outputs": [],
   "source": [
    "df = pd.read_csv('./data/Iris.csv')\n",
    "df"
   ]
  },
  {
   "cell_type": "code",
   "execution_count": null,
   "id": "3423cc6d-7717-41bb-945c-1843caebe45c",
   "metadata": {},
   "outputs": [],
   "source": [
    "df.groupby('Species')['PetalLengthCm'].count().to_frame()"
   ]
  },
  {
   "cell_type": "code",
   "execution_count": null,
   "id": "d1732bc3-1ab2-4ef3-b7af-f51aa377d8aa",
   "metadata": {},
   "outputs": [],
   "source": [
    "df.groupby('Species')['PetalLengthCm'].mean().to_frame()"
   ]
  },
  {
   "cell_type": "code",
   "execution_count": null,
   "id": "4f4ae064-e7aa-4d44-a453-4e3620ea88a9",
   "metadata": {},
   "outputs": [],
   "source": [
    "df.groupby('Species')['PetalLengthCm'].median().to_frame()"
   ]
  },
  {
   "cell_type": "code",
   "execution_count": null,
   "id": "6581bff0-9126-4a2e-b1cf-b40449be38ea",
   "metadata": {},
   "outputs": [],
   "source": [
    "df.groupby('Species')['PetalLengthCm'].agg(['count', 'mean', 'median'])"
   ]
  },
  {
   "cell_type": "code",
   "execution_count": null,
   "id": "e110e96d-510a-44fe-ade6-5154ebdac036",
   "metadata": {},
   "outputs": [],
   "source": [
    "df.groupby('Species')['PetalLengthCm'].describe()"
   ]
  }
 ],
 "metadata": {
  "kernelspec": {
   "display_name": "Python 3 (ipykernel)",
   "language": "python",
   "name": "python3"
  },
  "language_info": {
   "codemirror_mode": {
    "name": "ipython",
    "version": 3
   },
   "file_extension": ".py",
   "mimetype": "text/x-python",
   "name": "python",
   "nbconvert_exporter": "python",
   "pygments_lexer": "ipython3",
   "version": "3.11.7"
  }
 },
 "nbformat": 4,
 "nbformat_minor": 5
}
